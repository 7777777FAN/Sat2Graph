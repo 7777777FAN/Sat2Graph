{
 "cells": [
  {
   "cell_type": "code",
   "execution_count": 10,
   "metadata": {},
   "outputs": [],
   "source": [
    "# 可视化推理结果\n",
    "import json\n",
    "import pickle\n",
    "import cv2 as cv\n",
    "from PIL import Image\n",
    "\n",
    "\n",
    "sat_pattern = '/home/godx/research/my_code/exp_repo/graph/Sat2Graph/data/20cities/region_{}_sat.png'\n",
    "gt_graph_pattern = '/home/godx/research/my_code/exp_repo/graph/Sat2Graph/data/20cities/region_{}_refine_gt_graph.p'\n",
    "pred_graph_pattern = '/home/godx/research/source_code/Sat2Graph/model/outputs/region_{}_output_graph.p'\n",
    "\n",
    "save_pattern = '/home/godx/research/source_code/Sat2Graph/model/outputs/region_{}_vis.png'\n",
    "\n",
    "test_idxs = json.load(open('/home/godx/research/my_code/exp_repo/graph/RNGDetPP/cityscale/data/data_split.json', 'rb'))['test']\n",
    "\n",
    "for idx in test_idxs:\n",
    "    sat_path = sat_pattern.format(idx)\n",
    "    pred_graph_path = pred_graph_pattern.format(idx)\n",
    "    \n",
    "    sat = cv.imread(sat_path)\n",
    "    pred_graph = pickle.load(open(pred_graph_path, 'rb'))mao'si\n",
    "    \n",
    "    for n, v in pred_graph.items():\n",
    "        src_y, src_x = n\n",
    "        cv.circle(sat, (src_x, src_y), radius=4, color=(0, 255, 255), thickness=-1)\n",
    "        \n",
    "        for nei in v:\n",
    "            dst_y, dst_x = nei\n",
    "            cv.circle(sat, (dst_x, dst_y), radius=2, color=(0, 255, 255), thickness=-1)\n",
    "            cv.line(sat, (src_x, src_y), (dst_x, dst_y), color=(255, 0, 0), thickness=2)\n",
    "    \n",
    "    save_path = save_pattern.format(idx)\n",
    "    cv.imwrite(save_path, sat)\n",
    "    # Image.fromarray(sat).save(save_path)"
   ]
  }
 ],
 "metadata": {
  "kernelspec": {
   "display_name": "Python 3",
   "language": "python",
   "name": "python3"
  },
  "language_info": {
   "codemirror_mode": {
    "name": "ipython",
    "version": 3
   },
   "file_extension": ".py",
   "mimetype": "text/x-python",
   "name": "python",
   "nbconvert_exporter": "python",
   "pygments_lexer": "ipython3",
   "version": "3.9.19"
  }
 },
 "nbformat": 4,
 "nbformat_minor": 2
}
